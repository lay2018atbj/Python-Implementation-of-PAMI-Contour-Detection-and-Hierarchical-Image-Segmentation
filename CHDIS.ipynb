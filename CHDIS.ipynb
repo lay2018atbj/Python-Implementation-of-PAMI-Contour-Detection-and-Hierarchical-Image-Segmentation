{
 "cells": [
  {
   "cell_type": "code",
   "execution_count": 5,
   "metadata": {},
   "outputs": [],
   "source": [
    "from PIL import Image\n",
    "import numpy as np\n",
    "import cv2"
   ]
  },
  {
   "cell_type": "code",
   "execution_count": 2,
   "metadata": {},
   "outputs": [],
   "source": [
    "im = Image.open('101087.jpg')"
   ]
  },
  {
   "cell_type": "code",
   "execution_count": 3,
   "metadata": {},
   "outputs": [],
   "source": [
    "im = np.array(im)\n",
    "\n",
    "# scale im from 0-255 to 0-1\n",
    "im = im / 255\n",
    "tx, ty, nchan = im.shape\n",
    "orig_sz = [tx, ty] \n",
    "\n",
    "# default feature weights\n",
    "weights = [0, 0, 0.0039, 0.0050, 0.0058, 0.0069, 0.0040, 0.0044, 0.0049, 0.0024, 0.0027, 0.0170, 0.0074]"
   ]
  },
  {
   "cell_type": "code",
   "execution_count": 27,
   "metadata": {},
   "outputs": [],
   "source": [
    "# resize factor in (0, 1], to speed up eigenvector computation\n",
    "rsz = 1"
   ]
  },
  {
   "cell_type": "code",
   "execution_count": null,
   "metadata": {},
   "outputs": [],
   "source": [
    "def multiscale_Pb(im, rsz):\n",
    "    \"\"\"\n",
    "    compute local contour cues of an image.\n",
    "    im: 3 channel image arrays with value scaled between (0,1].\n",
    "    rsz: resize factor.\n",
    "    \"\"\"\n",
    "    [bg1, bg2, bg3, cga1, cga2, cga3, cgb1, cgb2, cgb3, tg1, tg2, tg3, textons] = gradient_mPb(im)\n",
    "    "
   ]
  },
  {
   "cell_type": "code",
   "execution_count": 83,
   "metadata": {},
   "outputs": [],
   "source": [
    "def gradients_mPb(im):\n",
    "    \"\"\"\n",
    "    compute image gradients.\n",
    "    im: 3 channel image arrays with value scaled between (0,1].\n",
    "    \"\"\"\n",
    "    # parameters - bin and smooth\n",
    "    num_orient = 8\n",
    "    num_L_bins = 25\n",
    "    num_a_bins = 25\n",
    "    num_b_bins = 25\n",
    "    bg_smooth_sigma = 0.1\n",
    "    cg_smooth_sigma = 0.05\n",
    "    border = 30\n",
    "    sigma_tg_filter_sm = 30\n",
    "    sigma_tg_filter_lg = np.sqrt(2) * 2\n",
    "    \n",
    "    # parameters - radius\n",
    "    num_bg_radius = 3\n",
    "    num_cg_radius = 3\n",
    "    num_tg_radius = 3\n",
    "    bg_radius = [3, 5, 10]\n",
    "    cg_radius = [5, 10, 20]\n",
    "    tg_radius = [5, 10, 20]\n",
    "    \n",
    "    # compute bg histogram smoothing kernel\n",
    "    bg_smooth_kernel = lib_image.gaussian(bg_smooth_sigma*num_L_bins)\n",
    "    cga_smooth_kernel = lib_image.gaussian(cg_smooth_sigma*num_a_bins)\n",
    "    cgb_smooth_kernel = lib_image.gaussian(cg_smooth_sigma*num_b_bins)\n",
    "    \n",
    "    # get image\n",
    "    L = im[0]\n",
    "    a = im[1]\n",
    "    b = im[2]\n",
    "    \n",
    "    # mirror border\n",
    "    L = lib_image.border_mirror_2D(L, border)\n",
    "    a = lib_image.border_mirror_2D(a, border)\n",
    "    b = lib_image.border_mirror_2D(b, border)\n",
    "    \n",
    "    return L, a, b\n",
    "    "
   ]
  },
  {
   "cell_type": "code",
   "execution_count": 40,
   "metadata": {},
   "outputs": [
    {
     "data": {
      "text/plain": [
       "array([[0.],\n",
       "       [0.],\n",
       "       [0.]])"
      ]
     },
     "execution_count": 40,
     "metadata": {},
     "output_type": "execute_result"
    }
   ],
   "source": [
    "np.zeros([3,1])"
   ]
  },
  {
   "cell_type": "code",
   "execution_count": 87,
   "metadata": {},
   "outputs": [],
   "source": [
    "class lib_image(object):\n",
    "\n",
    "    def gaussian(sigma=1, deriv=0): \n",
    "        \"\"\"\n",
    "        Gaussian kernel(1D)\n",
    "        The length of the returned vector is 2*support+1.\n",
    "        The support defaults to 3*sigma.\n",
    "        The kernel is normalized to have unit L1 norm.\n",
    "        If returning a 1st or 2nd derivative, the kernel has zero mean\n",
    "        \"\"\"\n",
    "        support = np.ceil(3*sigma)\n",
    "        support = support.astype(int)\n",
    "        # Enlarge support so that hilbert transform can be done efficiently\n",
    "        support_big = support\n",
    "        \n",
    "        # compute constants\n",
    "        sigma2_inv = 1 / (sigma*sigma)\n",
    "        \n",
    "        # compute gaussian (or gaussian derivative)\n",
    "        size = 2*support_big + 1\n",
    "        m = np.zeros([size, 1])\n",
    "        x = -support_big\n",
    "        if (deriv == 0):\n",
    "            for n in range(0, size):\n",
    "                m[n][0] = np.exp(x*x*(-0.5*sigma2_inv))\n",
    "                x += 1\n",
    "        elif (deriv == 1):\n",
    "            for n in range(0, size):\n",
    "                m[n][0] = np.exp(x*x*(-0.5*sigma2_inv)) * (-x)\n",
    "                x += 1\n",
    "        elif (deriv == 2):\n",
    "            for n in range(0, size):\n",
    "                m[n][0] = np.exp(x*x*(-0.5*sigma2_inv)) * (x*x*sigma2_inv - 1)\n",
    "        else:\n",
    "            raise ValueError(\"Only derivatives 0, 1, 2 supported\")\n",
    "            \n",
    "        # make zero mean (if returning derivative)\n",
    "        if (deriv > 0):\n",
    "            m -= np.mean(m)\n",
    "            \n",
    "        # make unit L1 norm\n",
    "        m /= np.sum(np.abs(m))\n",
    "        \n",
    "        return m\n",
    "    \n",
    "    def border_mirror_2D(m, size):\n",
    "        \"\"\"\n",
    "        Expand the border of the 2D matrix by the specified sizes in the X and Y dimensions.\n",
    "        The expand border is filled with the mirror image of interior data.\n",
    "        \"\"\"\n",
    "        # check that matrix is 2D\n",
    "        if (len(m.shape) != 2):\n",
    "            raise ValueError(\"matrix must be 2D\")\n",
    "            \n",
    "        # get matrix size\n",
    "        size_x, size_y = m.shape\n",
    "        \n",
    "        # compute border of X and Y\n",
    "        border_x, border_y = size, size\n",
    "        \n",
    "        # check that interior can be mirrored\n",
    "        if (border_x > size_x or border_y > size_x):\n",
    "            raise ValueError(\"cannot create mirrored border larger than matrix interior dimensions\")\n",
    "            \n",
    "        # mirror border\n",
    "        m_dst = lib_image.compute_border_mirror_2D(m, border_x, border_y)\n",
    "        \n",
    "        return m_dst\n",
    "    \n",
    "    def compute_border_mirror_2D(m, border_x, border_y):\n",
    "        \"\"\"\n",
    "        compute border mirrored matrix\n",
    "        \"\"\"\n",
    "        return np.pad(m, [border_x, border_y], 'reflect')"
   ]
  },
  {
   "cell_type": "code",
   "execution_count": 88,
   "metadata": {},
   "outputs": [],
   "source": [
    "L, a, b = gradients_mPb(im)"
   ]
  },
  {
   "cell_type": "code",
   "execution_count": 89,
   "metadata": {},
   "outputs": [
    {
     "data": {
      "text/plain": [
       "array([[1.        , 1.        , 1.        , ..., 1.        , 1.        ,\n",
       "        1.        ],\n",
       "       [0.99607843, 0.99607843, 0.99607843, ..., 0.99607843, 0.99607843,\n",
       "        0.99607843],\n",
       "       [0.99607843, 0.99607843, 0.99607843, ..., 0.99607843, 0.99607843,\n",
       "        0.99607843],\n",
       "       ...,\n",
       "       [0.0627451 , 0.13333333, 0.1372549 , ..., 0.0627451 , 0.13333333,\n",
       "        0.1372549 ],\n",
       "       [0.0745098 , 0.14509804, 0.14901961, ..., 0.0745098 , 0.14509804,\n",
       "        0.14901961],\n",
       "       [0.0745098 , 0.14509804, 0.14901961, ..., 0.0745098 , 0.14509804,\n",
       "        0.14901961]])"
      ]
     },
     "execution_count": 89,
     "metadata": {},
     "output_type": "execute_result"
    }
   ],
   "source": [
    "L"
   ]
  },
  {
   "cell_type": "code",
   "execution_count": 71,
   "metadata": {},
   "outputs": [
    {
     "data": {
      "text/plain": [
       "4"
      ]
     },
     "execution_count": 71,
     "metadata": {},
     "output_type": "execute_result"
    }
   ],
   "source": [
    "a"
   ]
  },
  {
   "cell_type": "code",
   "execution_count": 1,
   "metadata": {},
   "outputs": [],
   "source": [
    "import scipy"
   ]
  },
  {
   "cell_type": "code",
   "execution_count": 2,
   "metadata": {},
   "outputs": [
    {
     "data": {
      "text/plain": [
       "'1.4.1'"
      ]
     },
     "execution_count": 2,
     "metadata": {},
     "output_type": "execute_result"
    }
   ],
   "source": [
    "scipy.__version__"
   ]
  },
  {
   "cell_type": "code",
   "execution_count": 22,
   "metadata": {},
   "outputs": [],
   "source": [
    "def rotate_2D_crop(m, orient, size_x, size_y):\n",
    "        \"\"\"\n",
    "        rotate matrix by some orientation\n",
    "        \"\"\"\n",
    "\n",
    "        m_rotate = np.zeros([size_x, size_y])\n",
    "        # center of m\n",
    "        ox, oy = m.shape[1] // 2, m.shape[0] // 2\n",
    "\n",
    "        # center of m_rotate\n",
    "        ox_r, oy_r = size_y // 2, size_x // 2\n",
    "\n",
    "        # compute the matrix after rotation\n",
    "        for i in range(m.shape[0]):\n",
    "            for j in range(m.shape[1]):\n",
    "                x_coord = j - ox\n",
    "                y_coord = oy - i\n",
    "                dist = np.sqrt((x_coord)**2 + (y_coord)**2)\n",
    "                theta = np.arctan2(x_coord, y_coord) + orient\n",
    "                new_y = np.ceil(dist * np.cos(theta)).astype(int) + ox_r\n",
    "                new_x = -np.ceil(dist * np.sin(theta)).astype(int) + oy_r\n",
    "                m_rotate[new_x][new_y] = m[i][j]\n",
    "        x_start = (m_rotate.shape[0] - m.shape[0]) // 2\n",
    "        y_start = (m_rotate.shape[1] - m.shape[1]) // 2\n",
    "        m_rotate = m_rotate[x_start: x_start+m.shape[0], y_start: y_start+m.shape[1]] \n",
    "\n",
    "        return m_rotate\n",
    "        \n"
   ]
  },
  {
   "cell_type": "code",
   "execution_count": 25,
   "metadata": {},
   "outputs": [
    {
     "data": {
      "text/plain": [
       "array([[0, 1, 0],\n",
       "       [0, 1, 0],\n",
       "       [1, 1, 0]])"
      ]
     },
     "execution_count": 25,
     "metadata": {},
     "output_type": "execute_result"
    }
   ],
   "source": [
    "m = np.array([[0,1,0],[0,1,0],[1,1,0]])\n",
    "m"
   ]
  },
  {
   "cell_type": "code",
   "execution_count": 32,
   "metadata": {},
   "outputs": [
    {
     "data": {
      "text/plain": [
       "array([[1., 0., 0.],\n",
       "       [0., 1., 1.],\n",
       "       [1., 0., 0.]])"
      ]
     },
     "execution_count": 32,
     "metadata": {},
     "output_type": "execute_result"
    }
   ],
   "source": [
    "rotate_2D_crop(m, 0, 7, 7)"
   ]
  },
  {
   "cell_type": "code",
   "execution_count": 21,
   "metadata": {},
   "outputs": [
    {
     "data": {
      "text/plain": [
       "array([[0., 0.],\n",
       "       [0., 0.]])"
      ]
     },
     "execution_count": 21,
     "metadata": {},
     "output_type": "execute_result"
    }
   ],
   "source": [
    "np.zeros([7,7])[1:3,1:3]"
   ]
  },
  {
   "cell_type": "code",
   "execution_count": 41,
   "metadata": {},
   "outputs": [
    {
     "data": {
      "text/plain": [
       "1.0"
      ]
     },
     "execution_count": 41,
     "metadata": {},
     "output_type": "execute_result"
    }
   ],
   "source": [
    "np.round(1.414 * np.cos(-0.785))"
   ]
  },
  {
   "cell_type": "code",
   "execution_count": 39,
   "metadata": {},
   "outputs": [
    {
     "data": {
      "text/plain": [
       "1"
      ]
     },
     "execution_count": 39,
     "metadata": {},
     "output_type": "execute_result"
    }
   ],
   "source": [
    "np.round(0.998).astype(int)"
   ]
  },
  {
   "cell_type": "code",
   "execution_count": 40,
   "metadata": {},
   "outputs": [
    {
     "data": {
      "text/plain": [
       "1.0"
      ]
     },
     "execution_count": 40,
     "metadata": {},
     "output_type": "execute_result"
    }
   ],
   "source": [
    "np.round(0.998)"
   ]
  },
  {
   "cell_type": "code",
   "execution_count": 47,
   "metadata": {},
   "outputs": [
    {
     "data": {
      "text/plain": [
       "0.7853981633974483"
      ]
     },
     "execution_count": 47,
     "metadata": {},
     "output_type": "execute_result"
    }
   ],
   "source": [
    "np.arctan2(1, 1)"
   ]
  },
  {
   "cell_type": "code",
   "execution_count": null,
   "metadata": {},
   "outputs": [],
   "source": []
  }
 ],
 "metadata": {
  "kernelspec": {
   "display_name": "Python 3",
   "language": "python",
   "name": "python3"
  },
  "language_info": {
   "codemirror_mode": {
    "name": "ipython",
    "version": 3
   },
   "file_extension": ".py",
   "mimetype": "text/x-python",
   "name": "python",
   "nbconvert_exporter": "python",
   "pygments_lexer": "ipython3",
   "version": "3.6.5"
  }
 },
 "nbformat": 4,
 "nbformat_minor": 2
}
